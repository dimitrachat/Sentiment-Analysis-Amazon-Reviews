{
 "cells": [
  {
   "cell_type": "code",
   "execution_count": 1,
   "metadata": {
    "colab": {
     "base_uri": "https://localhost:8080/"
    },
    "id": "-qS01_LDFl0b",
    "outputId": "9b4b8753-fd24-4d04-d074-c82635f77c54"
   },
   "outputs": [
    {
     "name": "stderr",
     "output_type": "stream",
     "text": [
      "[nltk_data] Downloading package punkt to\n",
      "[nltk_data]     C:\\Users\\konst\\AppData\\Roaming\\nltk_data...\n",
      "[nltk_data]   Package punkt is already up-to-date!\n",
      "[nltk_data] Downloading package stopwords to\n",
      "[nltk_data]     C:\\Users\\konst\\AppData\\Roaming\\nltk_data...\n",
      "[nltk_data]   Package stopwords is already up-to-date!\n",
      "[nltk_data] Downloading package sentiwordnet to\n",
      "[nltk_data]     C:\\Users\\konst\\AppData\\Roaming\\nltk_data...\n",
      "[nltk_data]   Package sentiwordnet is already up-to-date!\n",
      "[nltk_data] Downloading package averaged_perceptron_tagger to\n",
      "[nltk_data]     C:\\Users\\konst\\AppData\\Roaming\\nltk_data...\n",
      "[nltk_data]   Package averaged_perceptron_tagger is already up-to-\n",
      "[nltk_data]       date!\n",
      "[nltk_data] Downloading package wordnet to\n",
      "[nltk_data]     C:\\Users\\konst\\AppData\\Roaming\\nltk_data...\n",
      "[nltk_data]   Package wordnet is already up-to-date!\n"
     ]
    },
    {
     "name": "stdout",
     "output_type": "stream",
     "text": [
      "0    Not much to write about here, but it does exac...\n",
      "1    The product does exactly as it should and is q...\n",
      "2    The primary job of this device is to block the...\n",
      "3    Nice windscreen protects my MXL mic and preven...\n",
      "4    This pop filter is great. It looks and perform...\n",
      "5    So good that I bought another one.  Love the h...\n",
      "6    I have used monster cables for years, and with...\n",
      "7    I now use this cable to run from the output of...\n",
      "8    Perfect for my Epiphone Sheraton II.  Monster ...\n",
      "9    Monster makes the best cables and a lifetime w...\n",
      "Name: reviewText, dtype: object\n",
      "0    much write exactly supposed filters pop sounds...\n",
      "1    product exactly quite affordable realized doub...\n",
      "2    primary job device block breath would otherwis...\n",
      "3    nice windscreen protects mxl mic prevents pops...\n",
      "4    pop filter great looks performs like studio fi...\n",
      "5    good bought another one love heavy cord gold c...\n",
      "6    used monster cables years good reason lifetime...\n",
      "7    use cable run output pedal chain input fender ...\n",
      "8    perfect epiphone sheraton ii monster cables we...\n",
      "9    monster makes best cables lifetime warranty do...\n",
      "Name: cleaned_text, dtype: object\n"
     ]
    }
   ],
   "source": [
    "import pandas as pd\n",
    "import re\n",
    "import matplotlib.pyplot as plt\n",
    "import string\n",
    "import nltk\n",
    "nltk.download('punkt')\n",
    "nltk.download('stopwords')\n",
    "nltk.download('sentiwordnet')\n",
    "nltk.download('averaged_perceptron_tagger')\n",
    "nltk.download('wordnet')\n",
    "              \n",
    "from nltk.corpus import stopwords\n",
    "from nltk.tokenize import word_tokenize\n",
    "from nltk.corpus import sentiwordnet as swn\n",
    "from nltk.corpus import wordnet\n",
    "from sklearn.feature_extraction.text import TfidfVectorizer\n",
    "from sklearn.decomposition import NMF\n",
    "from nltk.tokenize import word_tokenize\n",
    "from sklearn.svm import SVC\n",
    "from sklearn.model_selection import train_test_split\n",
    "from sklearn.metrics import accuracy_score\n",
    "from transformers import pipeline\n",
    "\n",
    "\n",
    "\n",
    "def preprocess_text(text):\n",
    "    if pd.isnull(text):  # Check for NaN values\n",
    "        return \"\"\n",
    "\n",
    "    if not isinstance(text, str):  # Check for non-string values\n",
    "        return \"\"\n",
    "\n",
    "    # Convert to lowercase\n",
    "    text = text.lower()\n",
    "\n",
    "    # Remove punctuation and special characters\n",
    "    text = re.sub(r\"[^a-zA-Z0-9]\", \" \", text)\n",
    "\n",
    "    # Tokenize the text into individual words\n",
    "    words = word_tokenize(text)\n",
    "\n",
    "    # Remove stopwords\n",
    "    stop_words = set(stopwords.words(\"english\"))\n",
    "    filtered_words = [word for word in words if word not in stop_words]\n",
    "\n",
    "    # Join the words back into a single string\n",
    "    processed_text = \" \".join(filtered_words)\n",
    "\n",
    "    return processed_text\n",
    "\n",
    "# Read the CSV file\n",
    "data = pd.read_csv('Musical_instruments_reviews.csv')\n",
    "\n",
    "# Preprocess the text data\n",
    "data['cleaned_text'] = data['reviewText'].apply(preprocess_text)\n",
    "print(data['reviewText'].head(10))\n",
    "# Print the cleaned text\n",
    "#print(data['cleaned_text'])\n",
    "# Print the first 10 rows of cleaned text\n",
    "print(data['cleaned_text'].head(10))\n"
   ]
  },
  {
   "cell_type": "code",
   "execution_count": 2,
   "metadata": {
    "id": "coJ_1p1-GFWt"
   },
   "outputs": [
    {
     "name": "stderr",
     "output_type": "stream",
     "text": [
      "[nltk_data] Downloading package sentiwordnet to\n",
      "[nltk_data]     C:\\Users\\konst\\AppData\\Roaming\\nltk_data...\n",
      "[nltk_data]   Package sentiwordnet is already up-to-date!\n",
      "[nltk_data] Downloading package averaged_perceptron_tagger to\n",
      "[nltk_data]     C:\\Users\\konst\\AppData\\Roaming\\nltk_data...\n",
      "[nltk_data]   Package averaged_perceptron_tagger is already up-to-\n",
      "[nltk_data]       date!\n",
      "[nltk_data] Downloading package wordnet to\n",
      "[nltk_data]     C:\\Users\\konst\\AppData\\Roaming\\nltk_data...\n",
      "[nltk_data]   Package wordnet is already up-to-date!\n"
     ]
    }
   ],
   "source": [
    "import gensim\n",
    "\n",
    "from sklearn.decomposition import LatentDirichletAllocation\n",
    "from sklearn.metrics.pairwise import cosine_similarity\n",
    "from sklearn.feature_extraction.text import TfidfVectorizer\n",
    "from sklearn.decomposition import LatentDirichletAllocation\n",
    "from sklearn.feature_extraction.text import CountVectorizer\n",
    "\n",
    "#######\n",
    "\n",
    "\n",
    "nltk.download('sentiwordnet')\n",
    "nltk.download('averaged_perceptron_tagger')\n",
    "nltk.download('wordnet')\n",
    "from nltk.corpus import sentiwordnet as swn\n",
    "from nltk.corpus import wordnet\n",
    "\n",
    "# Function for LDA topic analysis\n",
    "\n",
    "\n",
    "def lda_topic_analysis(text_data, num_topics=5, num_top_words=10):\n",
    "    # Make sure text_data is a list of documents\n",
    "    if not isinstance(text_data, list):\n",
    "        raise ValueError(\"text_data should be a list of documents.\")\n",
    "\n",
    "    # Create TF-IDF vectorizer\n",
    "    tfidf_vectorizer = TfidfVectorizer()\n",
    "    tfidf_matrix = tfidf_vectorizer.fit_transform(text_data)\n",
    "\n",
    "    # Apply Latent Dirichlet Allocation (LDA) for topic modeling\n",
    "    if not isinstance(num_topics, int):\n",
    "        raise ValueError(\"num_topics should be an integer value.\")\n",
    "    lda_model = LatentDirichletAllocation(n_components=num_topics, random_state=42)\n",
    "    lda_topics = lda_model.fit_transform(tfidf_matrix)\n",
    "\n",
    "    # Get top N words for each topic\n",
    "    feature_names = tfidf_vectorizer.get_feature_names_out()\n",
    "    topic_titles = []\n",
    "    for topic_idx, topic in enumerate(lda_model.components_):\n",
    "        top_words_idx = topic.argsort()[-num_top_words:][::-1]\n",
    "        top_words = [feature_names[i] for i in top_words_idx]\n",
    "        topic_titles.append(f\"Topic {topic_idx+1}: {' '.join(top_words)}\")\n",
    "\n",
    "    return lda_topics, topic_titles, tfidf_vectorizer\n"
   ]
  },
  {
   "cell_type": "code",
   "execution_count": 3,
   "metadata": {
    "colab": {
     "base_uri": "https://localhost:8080/"
    },
    "id": "mvW8gt-QS_lL",
    "outputId": "3f29b624-ef78-4129-8652-799dd0642e94"
   },
   "outputs": [],
   "source": [
    "def get_sentiment_score(word, pos):\n",
    "    synsets = list(swn.senti_synsets(word, pos))\n",
    "    if synsets:\n",
    "        sentiment_score = (synsets[0].pos_score() - synsets[0].neg_score())\n",
    "        return sentiment_score\n",
    "    return 0.0  # If no sentiment score is found, return 0 as default\n",
    "\n",
    "def get_pos_tag(word):\n",
    "    # Map NLTK POS tags to WordNet POS tags\n",
    "    tag = nltk.pos_tag([word])[0][1][0].upper()\n",
    "    tag_dict = {\n",
    "        'J': wordnet.ADJ,\n",
    "        'N': wordnet.NOUN,\n",
    "        'V': wordnet.VERB,\n",
    "        'R': wordnet.ADV\n",
    "    }\n",
    "    return tag_dict.get(tag, wordnet.NOUN)  # Default to NOUN if no mapping is found\n",
    "\n",
    "def calculate_sentiment_score(text):\n",
    "    sentiment_scores = []\n",
    "    for word in text.split():\n",
    "        pos = get_pos_tag(word)  # Get the WordNet POS tag\n",
    "        sentiment_score = get_sentiment_score(word, pos)\n",
    "        sentiment_scores.append(sentiment_score)\n",
    "\n",
    "    if sentiment_scores:  # Check if sentiment_scores is not empty\n",
    "        return sum(sentiment_scores) / len(sentiment_scores)  # Calculate average sentiment score\n",
    "\n",
    "    return 0.0  # Return 0 as default if sentiment_scores is empty\n",
    "\n",
    "\n",
    "data = pd.read_csv('Musical_instruments_reviews.csv')\n",
    "\n",
    "data['cleaned_text'] = data['reviewText'].apply(preprocess_text)\n",
    "\n",
    "# Calculate sentiment scores and assign sentiment labels\n",
    "data['sentiment_score'] = data['cleaned_text'].apply(calculate_sentiment_score)\n",
    "data['sentiment'] = data['sentiment_score'].apply(lambda score: 'positive' if score > 0 else 'negative' if score < 0 else 'neutral')\n",
    "\n",
    "# Extract the cleaned text and sentiment labels\n",
    "text_data = data['cleaned_text'].tolist()\n",
    "labels = data['sentiment'].tolist()\n"
   ]
  },
  {
   "cell_type": "code",
   "execution_count": 18,
   "metadata": {},
   "outputs": [
    {
     "name": "stderr",
     "output_type": "stream",
     "text": [
      "All PyTorch model weights were used when initializing TFGPT2LMHeadModel.\n",
      "\n",
      "All the weights of TFGPT2LMHeadModel were initialized from the PyTorch model.\n",
      "If your task is similar to the task the model of the checkpoint was trained on, you can already use TFGPT2LMHeadModel for predictions without further training.\n",
      "Setting `pad_token_id` to `eos_token_id`:50256 for open-end generation.\n"
     ]
    },
    {
     "name": "stdout",
     "output_type": "stream",
     "text": [
      "Review 1:\n",
      "Not much to write about here, but it does exactly what it's supposed to. filters out the pop sounds. now my recordings are much more crisp. it is one of the lowest prices pop filters on amazon so might as well buy it, they honestly work the same despite their pricing,\n",
      "\n",
      "Topic Label for Review 1: the quality is pretty decent. if you want to try it\n",
      "\n"
     ]
    }
   ],
   "source": [
    "data = pd.read_csv('Musical_instruments_reviews.csv')\n",
    "\n",
    "# Sample review number (replace with the desired review number)\n",
    "review_number = 1\n",
    "\n",
    "# Get the review text for the specified review number\n",
    "review_text = data['reviewText'][review_number - 1]\n",
    "\n",
    "# Generate topic labels using a text generation pipeline from Hugging Face Transformers\n",
    "generator = pipeline(\"text-generation\", model=\"gpt2\")  # Use the \"gpt2\" model\n",
    "\n",
    "# Find the maximum length of the input review text\n",
    "max_review_length = len(review_text.split())\n",
    "\n",
    "# Set the maximum length for the generated topic label to a value greater than the maximum review length\n",
    "max_topic_length = max_review_length + 20  # Adding 20 tokens as buffer\n",
    "\n",
    "print(f\"Review {review_number}:\")\n",
    "print(review_text)\n",
    "\n",
    "# Modify the prompt to provide only the review text without any other instructions\n",
    "prompt = review_text\n",
    "\n",
    "# Generate the topic label\n",
    "generated = generator(prompt, max_length=max_topic_length, temperature=0.7, do_sample=True)\n",
    "topic_label = generated[0][\"generated_text\"].replace(prompt, \"\").strip()\n",
    "\n",
    "print(f\"\\nTopic Label for Review {review_number}: {topic_label}\\n\")\n",
    "\n",
    "\n",
    "\n",
    "\n"
   ]
  },
  {
   "cell_type": "code",
   "execution_count": 5,
   "metadata": {},
   "outputs": [
    {
     "name": "stdout",
     "output_type": "stream",
     "text": [
      "\n",
      "LDA Topic Analysis for Review 1:\n",
      "Topic 1: much filters pop might buy crisp despite\n",
      "\n",
      "LDA Topic Analysis for Review 2:\n",
      "Topic 1: even filter buy pop product work like\n",
      "\n",
      "LDA Topic Analysis for Review 3:\n",
      "Topic 1: voice would coloration job high goose frequencies\n",
      "\n",
      "LDA Topic Analysis for Review 4:\n",
      "Topic 1: windscreen thing avoid careful clamp gooseneck hold\n",
      "\n",
      "LDA Topic Analysis for Review 5:\n",
      "Topic 1: filter vocals studio sing recording recorded pops\n",
      "\n",
      "LDA Topic Analysis for Review 6:\n",
      "Topic 1: great works still bass bought carefully coil\n",
      "\n",
      "LDA Topic Analysis for Review 7:\n",
      "Topic 1: cables years lifetime break cost fact getting\n",
      "\n",
      "LDA Topic Analysis for Review 8:\n",
      "Topic 1: cable waves planet back pedal bought 00\n",
      "\n",
      "LDA Topic Analysis for Review 9:\n",
      "Topic 1: years well cables constructed degree epiphone got\n",
      "\n",
      "LDA Topic Analysis for Review 10:\n",
      "Topic 1: cables monster wrong hurt best cant doesnt\n",
      "\n",
      "LDA Topic Analysis for Review 11:\n",
      "Topic 1: model cables instrument higher looks expensive keyboards\n",
      "\n",
      "LDA Topic Analysis for Review 12:\n",
      "Topic 1: really need use see rarely organ often\n",
      "\n",
      "LDA Topic Analysis for Review 13:\n",
      "Topic 1: use may using sustaining playing piano pedal\n",
      "\n",
      "LDA Topic Analysis for Review 14:\n",
      "Topic 1: ypt yamaha would works used recommend love\n",
      "\n",
      "LDA Topic Analysis for Review 15:\n",
      "Topic 1: wanted use studio midi keyboard home control\n"
     ]
    }
   ],
   "source": [
    "data = pd.read_csv('Musical_instruments_reviews.csv')\n",
    "\n",
    "data['cleaned_text'] = data['reviewText'].apply(preprocess_text)\n",
    "\n",
    "# Set the number of reviews\n",
    "num_reviews_to_analyze = 15\n",
    "review_texts = data['cleaned_text'][:num_reviews_to_analyze].tolist()\n",
    "\n",
    "\n",
    "# Perform LDA Topic Analysis for each review\n",
    "num_topics = 1  \n",
    "num_top_words = 7\n",
    "for i, review_text in enumerate(review_texts):\n",
    "    lda_topics, topic_titles, _ = lda_topic_analysis([review_text], num_topics=num_topics, num_top_words=num_top_words)\n",
    "    print(f\"\\nLDA Topic Analysis for Review {i+1}:\")\n",
    "    print(topic_titles[0])  # Display the first topic only (since we set num_topics=1)\n",
    "    "
   ]
  },
  {
   "cell_type": "markdown",
   "metadata": {},
   "source": [
    "# Sentiment Analysis"
   ]
  },
  {
   "cell_type": "code",
   "execution_count": 6,
   "metadata": {},
   "outputs": [
    {
     "name": "stdout",
     "output_type": "stream",
     "text": [
      "\n",
      "Unique values and their counts for 'sentiment' column:\n",
      "positive    7914\n",
      "negative    1926\n",
      "neutral      421\n",
      "Name: sentiment, dtype: int64\n"
     ]
    }
   ],
   "source": [
    "data = pd.read_csv('Musical_instruments_reviews.csv')\n",
    "\n",
    "data['cleaned_text'] = data['reviewText'].apply(preprocess_text)\n",
    "\n",
    "# Calculate sentiment scores and assign sentiment labels\n",
    "data['sentiment_score'] = data['cleaned_text'].apply(calculate_sentiment_score)\n",
    "data['sentiment'] = data['sentiment_score'].apply(lambda score: 'positive' if score > 0 else 'negative' if score < 0 else 'neutral')\n",
    "\n",
    "# Extract the cleaned text and sentiment labels\n",
    "text_data = data['cleaned_text'].tolist()\n",
    "labels = data['sentiment'].tolist()\n",
    "\n",
    "sentiment_counts = data['sentiment'].value_counts()\n",
    "print(\"\\nUnique values and their counts for 'sentiment' column:\")\n",
    "print(sentiment_counts)"
   ]
  },
  {
   "cell_type": "code",
   "execution_count": 7,
   "metadata": {},
   "outputs": [
    {
     "name": "stdout",
     "output_type": "stream",
     "text": [
      "LDA Perplexity: 9292.028244304955\n"
     ]
    }
   ],
   "source": [
    "tfidf_vectorizer = TfidfVectorizer()\n",
    "tfidf_matrix = tfidf_vectorizer.fit_transform(data['cleaned_text'])\n",
    "\n",
    "# Set the number of topics for LDA\n",
    "num_topics = 5\n",
    "\n",
    "# Fit LDA model\n",
    "lda_model = LatentDirichletAllocation(n_components=num_topics, random_state=42)\n",
    "lda_model.fit(tfidf_matrix)\n",
    "\n",
    "# Calculate perplexity\n",
    "perplexity = lda_model.perplexity(tfidf_matrix)\n",
    "print(f\"LDA Perplexity: {perplexity}\")"
   ]
  },
  {
   "cell_type": "code",
   "execution_count": 8,
   "metadata": {
    "id": "jZbslgilVIXB"
   },
   "outputs": [
    {
     "data": {
      "image/png": "[encoded data removed]",
      "text/plain": [
       "<Figure size 864x432 with 1 Axes>"
      ]
     },
     "metadata": {
      "needs_background": "light"
     },
     "output_type": "display_data"
    }
   ],
   "source": [
    "# Create a sentiment polarity distribution plot\n",
    "plt.figure(figsize=(12, 6))\n",
    "plt.hist(data['sentiment_score'], bins=20, edgecolor='black')\n",
    "plt.xlabel('Sentiment Score')\n",
    "plt.ylabel('Number of Reviews')\n",
    "plt.title('Sentiment Polarity Distribution')\n",
    "plt.xticks([-1, -0.5, 0, 0.5, 1])  # Set custom x-axis ticks if needed\n",
    "plt.grid(axis='y', linestyle='--', alpha=0.7)\n",
    "plt.show()"
   ]
  },
  {
   "cell_type": "code",
   "execution_count": 9,
   "metadata": {},
   "outputs": [],
   "source": [
    "data['word_count'] = data['reviewText'].apply(lambda x: len(str(x).split()))\n"
   ]
  },
  {
   "cell_type": "code",
   "execution_count": 10,
   "metadata": {},
   "outputs": [
    {
     "data": {
      "text/plain": [
       "5.0    6938\n",
       "4.0    2084\n",
       "3.0     772\n",
       "2.0     250\n",
       "1.0     217\n",
       "Name: overall, dtype: int64"
      ]
     },
     "execution_count": 10,
     "metadata": {},
     "output_type": "execute_result"
    }
   ],
   "source": [
    "data['overall'].value_counts()"
   ]
  },
  {
   "cell_type": "code",
   "execution_count": 11,
   "metadata": {},
   "outputs": [],
   "source": [
    "def sentiment_n(row):\n",
    "    \n",
    "    '''This function returns sentiment value based on the overall ratings from the user'''\n",
    "    \n",
    "    if row['overall'] == 3.0:\n",
    "        val = 'Neutral'\n",
    "    elif row['overall'] == 1.0 or row['overall'] == 2.0:\n",
    "        val = 'Negative'\n",
    "    elif row['overall'] == 4.0 or row['overall'] == 5.0:\n",
    "        val = 'Positive'\n",
    "    else:\n",
    "        val = -1\n",
    "    return val"
   ]
  },
  {
   "cell_type": "code",
   "execution_count": 12,
   "metadata": {},
   "outputs": [
    {
     "data": {
      "text/html": [
       "<div>\n",
       "<style scoped>\n",
       "    .dataframe tbody tr th:only-of-type {\n",
       "        vertical-align: middle;\n",
       "    }\n",
       "\n",
       "    .dataframe tbody tr th {\n",
       "        vertical-align: top;\n",
       "    }\n",
       "\n",
       "    .dataframe thead th {\n",
       "        text-align: right;\n",
       "    }\n",
       "</style>\n",
       "<table border=\"1\" class=\"dataframe\">\n",
       "  <thead>\n",
       "    <tr style=\"text-align: right;\">\n",
       "      <th></th>\n",
       "      <th>reviewerID</th>\n",
       "      <th>asin</th>\n",
       "      <th>reviewerName</th>\n",
       "      <th>helpful</th>\n",
       "      <th>reviewText</th>\n",
       "      <th>overall</th>\n",
       "      <th>summary</th>\n",
       "      <th>unixReviewTime</th>\n",
       "      <th>reviewTime</th>\n",
       "      <th>cleaned_text</th>\n",
       "      <th>sentiment_score</th>\n",
       "      <th>sentiment</th>\n",
       "      <th>word_count</th>\n",
       "      <th>sentiment_n</th>\n",
       "    </tr>\n",
       "  </thead>\n",
       "  <tbody>\n",
       "    <tr>\n",
       "      <th>0</th>\n",
       "      <td>A2IBPI20UZIR0U</td>\n",
       "      <td>1384719342</td>\n",
       "      <td>cassandra tu \"Yeah, well, that's just like, u...</td>\n",
       "      <td>[0, 0]</td>\n",
       "      <td>Not much to write about here, but it does exac...</td>\n",
       "      <td>5.0</td>\n",
       "      <td>good</td>\n",
       "      <td>1393545600</td>\n",
       "      <td>02 28, 2014</td>\n",
       "      <td>much write exactly supposed filters pop sounds...</td>\n",
       "      <td>0.005435</td>\n",
       "      <td>positive</td>\n",
       "      <td>51</td>\n",
       "      <td>Positive</td>\n",
       "    </tr>\n",
       "    <tr>\n",
       "      <th>1</th>\n",
       "      <td>A14VAT5EAX3D9S</td>\n",
       "      <td>1384719342</td>\n",
       "      <td>Jake</td>\n",
       "      <td>[13, 14]</td>\n",
       "      <td>The product does exactly as it should and is q...</td>\n",
       "      <td>5.0</td>\n",
       "      <td>Jake</td>\n",
       "      <td>1363392000</td>\n",
       "      <td>03 16, 2013</td>\n",
       "      <td>product exactly quite affordable realized doub...</td>\n",
       "      <td>0.066176</td>\n",
       "      <td>positive</td>\n",
       "      <td>104</td>\n",
       "      <td>Positive</td>\n",
       "    </tr>\n",
       "    <tr>\n",
       "      <th>2</th>\n",
       "      <td>A195EZSQDW3E21</td>\n",
       "      <td>1384719342</td>\n",
       "      <td>Rick Bennette \"Rick Bennette\"</td>\n",
       "      <td>[1, 1]</td>\n",
       "      <td>The primary job of this device is to block the...</td>\n",
       "      <td>5.0</td>\n",
       "      <td>It Does The Job Well</td>\n",
       "      <td>1377648000</td>\n",
       "      <td>08 28, 2013</td>\n",
       "      <td>primary job device block breath would otherwis...</td>\n",
       "      <td>0.023256</td>\n",
       "      <td>positive</td>\n",
       "      <td>77</td>\n",
       "      <td>Positive</td>\n",
       "    </tr>\n",
       "    <tr>\n",
       "      <th>3</th>\n",
       "      <td>A2C00NNG1ZQQG2</td>\n",
       "      <td>1384719342</td>\n",
       "      <td>RustyBill \"Sunday Rocker\"</td>\n",
       "      <td>[0, 0]</td>\n",
       "      <td>Nice windscreen protects my MXL mic and preven...</td>\n",
       "      <td>5.0</td>\n",
       "      <td>GOOD WINDSCREEN FOR THE MONEY</td>\n",
       "      <td>1392336000</td>\n",
       "      <td>02 14, 2014</td>\n",
       "      <td>nice windscreen protects mxl mic prevents pops...</td>\n",
       "      <td>0.056250</td>\n",
       "      <td>positive</td>\n",
       "      <td>35</td>\n",
       "      <td>Positive</td>\n",
       "    </tr>\n",
       "    <tr>\n",
       "      <th>4</th>\n",
       "      <td>A94QU4C90B1AX</td>\n",
       "      <td>1384719342</td>\n",
       "      <td>SEAN MASLANKA</td>\n",
       "      <td>[0, 0]</td>\n",
       "      <td>This pop filter is great. It looks and perform...</td>\n",
       "      <td>5.0</td>\n",
       "      <td>No more pops when I record my vocals.</td>\n",
       "      <td>1392940800</td>\n",
       "      <td>02 21, 2014</td>\n",
       "      <td>pop filter great looks performs like studio fi...</td>\n",
       "      <td>0.016667</td>\n",
       "      <td>positive</td>\n",
       "      <td>28</td>\n",
       "      <td>Positive</td>\n",
       "    </tr>\n",
       "  </tbody>\n",
       "</table>\n",
       "</div>"
      ],
      "text/plain": [
       "       reviewerID        asin  \\\n",
       "0  A2IBPI20UZIR0U  1384719342   \n",
       "1  A14VAT5EAX3D9S  1384719342   \n",
       "2  A195EZSQDW3E21  1384719342   \n",
       "3  A2C00NNG1ZQQG2  1384719342   \n",
       "4   A94QU4C90B1AX  1384719342   \n",
       "\n",
       "                                       reviewerName   helpful  \\\n",
       "0  cassandra tu \"Yeah, well, that's just like, u...    [0, 0]   \n",
       "1                                              Jake  [13, 14]   \n",
       "2                     Rick Bennette \"Rick Bennette\"    [1, 1]   \n",
       "3                         RustyBill \"Sunday Rocker\"    [0, 0]   \n",
       "4                                     SEAN MASLANKA    [0, 0]   \n",
       "\n",
       "                                          reviewText  overall  \\\n",
       "0  Not much to write about here, but it does exac...      5.0   \n",
       "1  The product does exactly as it should and is q...      5.0   \n",
       "2  The primary job of this device is to block the...      5.0   \n",
       "3  Nice windscreen protects my MXL mic and preven...      5.0   \n",
       "4  This pop filter is great. It looks and perform...      5.0   \n",
       "\n",
       "                                 summary  unixReviewTime   reviewTime  \\\n",
       "0                                   good      1393545600  02 28, 2014   \n",
       "1                                   Jake      1363392000  03 16, 2013   \n",
       "2                   It Does The Job Well      1377648000  08 28, 2013   \n",
       "3          GOOD WINDSCREEN FOR THE MONEY      1392336000  02 14, 2014   \n",
       "4  No more pops when I record my vocals.      1392940800  02 21, 2014   \n",
       "\n",
       "                                        cleaned_text  sentiment_score  \\\n",
       "0  much write exactly supposed filters pop sounds...         0.005435   \n",
       "1  product exactly quite affordable realized doub...         0.066176   \n",
       "2  primary job device block breath would otherwis...         0.023256   \n",
       "3  nice windscreen protects mxl mic prevents pops...         0.056250   \n",
       "4  pop filter great looks performs like studio fi...         0.016667   \n",
       "\n",
       "  sentiment  word_count sentiment_n  \n",
       "0  positive          51    Positive  \n",
       "1  positive         104    Positive  \n",
       "2  positive          77    Positive  \n",
       "3  positive          35    Positive  \n",
       "4  positive          28    Positive  "
      ]
     },
     "execution_count": 12,
     "metadata": {},
     "output_type": "execute_result"
    }
   ],
   "source": [
    "#Applying the function in our new column\n",
    "data['sentiment_n'] = data.apply(sentiment_n, axis=1)\n",
    "data.head()"
   ]
  },
  {
   "cell_type": "code",
   "execution_count": 13,
   "metadata": {},
   "outputs": [
    {
     "data": {
      "text/plain": [
       "Positive    9022\n",
       "Neutral      772\n",
       "Negative     467\n",
       "Name: sentiment_n, dtype: int64"
      ]
     },
     "execution_count": 13,
     "metadata": {},
     "output_type": "execute_result"
    }
   ],
   "source": [
    "data['sentiment_n'].value_counts()"
   ]
  },
  {
   "cell_type": "markdown",
   "metadata": {},
   "source": [
    "This is Sentiment Distribution in the Dataset With lexicon-based approach using SentiWordNet"
   ]
  },
  {
   "cell_type": "code",
   "execution_count": 14,
   "metadata": {},
   "outputs": [
    {
     "data": {
      "image/png": "[encoded data removed]",
      "text/plain": [
       "<Figure size 864x432 with 1 Axes>"
      ]
     },
     "metadata": {
      "needs_background": "light"
     },
     "output_type": "display_data"
    }
   ],
   "source": [
    "# Create a frequency bar chart for 'sentiment' column\n",
    "sentiment_counts = data['sentiment'].value_counts()\n",
    "\n",
    "plt.figure(figsize=(12, 6))\n",
    "bars = plt.bar(sentiment_counts.index, sentiment_counts.values, color=['green', 'red', 'blue'])\n",
    "plt.xlabel('Sentiment')\n",
    "plt.ylabel('Frequency')\n",
    "plt.title('Sentiment Distribution in the Dataset With lexicon-based approach using SentiWordNet')\n",
    "plt.grid(axis='y', linestyle='--', alpha=0.7)\n",
    "\n",
    "# Add data labels on top of the bars\n",
    "for bar in bars:\n",
    "    height = bar.get_height()\n",
    "    plt.text(bar.get_x() + bar.get_width() / 2, height, str(height), ha='center', va='bottom')\n",
    "\n",
    "plt.show()"
   ]
  },
  {
   "cell_type": "markdown",
   "metadata": {},
   "source": [
    "This is Sentiment Distribution in the Dataset with Simple Rating Classification"
   ]
  },
  {
   "cell_type": "code",
   "execution_count": 15,
   "metadata": {},
   "outputs": [
    {
     "data": {
      "image/png": "[encoded data removed]",
      "text/plain": [
       "<Figure size 864x432 with 1 Axes>"
      ]
     },
     "metadata": {
      "needs_background": "light"
     },
     "output_type": "display_data"
    }
   ],
   "source": [
    "# Create a frequency bar chart for 'sentiment' column\n",
    "sentiment_counts = data['sentiment_n'].value_counts()\n",
    "\n",
    "plt.figure(figsize=(12, 6))\n",
    "bars = plt.bar(sentiment_counts.index, sentiment_counts.values, color=['green', 'blue', 'red'])\n",
    "plt.xlabel('Sentiment')\n",
    "plt.ylabel('Frequency')\n",
    "plt.title('Sentiment Distribution in the Dataset with Simple Rating Classification')\n",
    "plt.grid(axis='y', linestyle='--', alpha=0.7)\n",
    "\n",
    "# Add data labels on top of the bars\n",
    "for bar in bars:\n",
    "    height = bar.get_height()\n",
    "    plt.text(bar.get_x() + bar.get_width() / 2, height, str(height), ha='center', va='bottom')\n",
    "\n",
    "plt.show()"
   ]
  },
  {
   "cell_type": "markdown",
   "metadata": {},
   "source": [
    "Finally a Review Text Word Count Distribution"
   ]
  },
  {
   "cell_type": "code",
   "execution_count": 16,
   "metadata": {},
   "outputs": [
    {
     "data": {
      "image/png": "[encoded data removed]",
      "text/plain": [
       "<Figure size 864x432 with 1 Axes>"
      ]
     },
     "metadata": {
      "needs_background": "light"
     },
     "output_type": "display_data"
    }
   ],
   "source": [
    "review_lengths = data['word_count']\n",
    "\n",
    "plt.figure(figsize=(12, 6))  # Adjust the width and height as desired\n",
    "\n",
    "plt.hist(review_lengths, bins=100, color='orange', edgecolor='black')\n",
    "\n",
    "# Set the labels and title\n",
    "plt.xlabel('Word Count')\n",
    "plt.ylabel('Count')\n",
    "plt.title('Review Text Word Count Distribution')\n",
    "\n",
    "\n",
    "plt.grid(True)\n",
    "\n",
    "\n",
    "plt.show()\n"
   ]
  }
 ],
 "metadata": {
  "colab": {
   "provenance": []
  },
  "kernelspec": {
   "display_name": "Python 3 (ipykernel)",
   "language": "python",
   "name": "python3"
  },
  "language_info": {
   "codemirror_mode": {
    "name": "ipython",
    "version": 3
   },
   "file_extension": ".py",
   "mimetype": "text/x-python",
   "name": "python",
   "nbconvert_exporter": "python",
   "pygments_lexer": "ipython3",
   "version": "3.9.12"
  }
 },
 "nbformat": 4,
 "nbformat_minor": 1
}
